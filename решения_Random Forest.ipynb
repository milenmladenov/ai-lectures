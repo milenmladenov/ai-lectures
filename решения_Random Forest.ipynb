{
 "cells": [
  {
   "cell_type": "code",
   "execution_count": null,
   "metadata": {},
   "outputs": [],
   "source": [
    "import numpy as np\n",
    "import matplotlib.pyplot as plt\n",
    "from sklearn.ensemble import RandomForestRegressor\n",
    "from sklearn.model_selection import train_test_split\n",
    "\n",
    "# Данни: квадратура (X) и цена на къщата (y)\n",
    "X = np.array([50, 60, 75, 80, 100, 120, 150, 200, 250, 300]).reshape(-1, 1)\n",
    "y = np.array([100000, 120000, 140000, 160000, 180000, 210000, 250000, 310000, 370000, 450000])\n",
    "\n",
    "# Разделяне на данните\n",
    "X_train, X_test, y_train, y_test = train_test_split(X, y, test_size=0.2, random_state=42)\n",
    "\n",
    "# Създаване и обучение на Random Forest модел\n",
    "rf_model = RandomForestRegressor(n_estimators=100, random_state=42)\n",
    "rf_model.fit(X_train, y_train)\n",
    "\n",
    "# Прогнозиране на цената за къща с 180 кв.м\n",
    "predicted_price_180 = rf_model.predict([[180]])\n",
    "predicted_price_220 = rf_model.predict([[220]])\n",
    "\n",
    "print(f\"Прогнозна цена за 180 кв.м: {predicted_price_180[0]:.2f} BGN\")\n",
    "print(f\"Прогнозна цена за 220 кв.м: {predicted_price_220[0]:.2f} BGN\")\n",
    "\n",
    "# Визуализация\n",
    "X_vals = np.linspace(50, 300, 100).reshape(-1, 1)\n",
    "y_preds = rf_model.predict(X_vals)\n",
    "\n",
    "plt.scatter(X, y, color='blue', label='Реални данни')\n",
    "plt.plot(X_vals, y_preds, color='red', label='Random Forest прогноза')\n",
    "plt.xlabel(\"Квадратура на къщата (кв.м)\")\n",
    "plt.ylabel(\"Цена на къщата (BGN)\")\n",
    "plt.title(\"Прогноза на цената на къща с Random Forest\")\n",
    "plt.legend()\n",
    "plt.show()"
   ]
  }
 ],
 "metadata": {
  "language_info": {
   "name": "python"
  }
 },
 "nbformat": 4,
 "nbformat_minor": 2
}
