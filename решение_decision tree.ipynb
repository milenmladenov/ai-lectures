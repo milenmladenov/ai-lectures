{
 "cells": [
  {
   "cell_type": "code",
   "execution_count": null,
   "metadata": {},
   "outputs": [],
   "source": [
    "\n",
    "from sklearn.datasets import load_iris\n",
    "from sklearn.tree import DecisionTreeClassifier, plot_tree\n",
    "from sklearn.model_selection import train_test_split\n",
    "from sklearn.metrics import accuracy_score\n",
    "import matplotlib.pyplot as plt\n",
    "\n",
    "# Зареждаме данните\n",
    "iris = load_iris()\n",
    "X = iris.data  # Характеристики на цветята\n",
    "y = iris.target  # Вид на цветето\n",
    "\n",
    "# Разделяне на тренировъчни и тестови данни\n",
    "X_train, X_test, y_train, y_test = train_test_split(X, y, test_size=0.2, random_state=42)\n",
    "\n",
    "# Създаване и обучение на Decision Tree модел\n",
    "dt_model = DecisionTreeClassifier(max_depth=3)  # Ограничаваме дълбочината до 3 за по-добра интерпретация\n",
    "dt_model.fit(X_train, y_train)\n",
    "\n",
    "# Тестване на модела\n",
    "y_pred = dt_model.predict(X_test)\n",
    "accuracy = accuracy_score(y_test, y_pred)\n",
    "\n",
    "print(f\"Точност на Decision Tree модела: {accuracy:.2f}\")\n",
    "\n",
    "# Визуализация на дървото на решенията\n",
    "plt.figure(figsize=(10, 6))\n",
    "plot_tree(dt_model, filled=True, feature_names=iris.feature_names, class_names=iris.target_names)\n",
    "plt.show()\n",
    "\n",
    "# Прогноза за ново цвете\n",
    "sample_flower = [[5.0, 3.5, 1.3, 0.3]]\n",
    "predicted_class = dt_model.predict(sample_flower)\n",
    "print(f\"Прогнозиран клас за ново цвете: {iris.target_names[predicted_class[0]]}\")"
   ]
  }
 ],
 "metadata": {
  "language_info": {
   "name": "python"
  }
 },
 "nbformat": 4,
 "nbformat_minor": 2
}
